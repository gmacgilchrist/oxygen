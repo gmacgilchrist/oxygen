{
 "cells": [
  {
   "cell_type": "markdown",
   "id": "2f81474b-53fd-4dc0-b97a-9b087921d01b",
   "metadata": {},
   "source": [
    "## Save zarr stores for some variables\n",
    "Chug certain variables into a zarr store in `/work` for later use."
   ]
  },
  {
   "cell_type": "code",
   "execution_count": 2,
   "id": "98e9426c-2839-4769-9581-ca3bb94f3012",
   "metadata": {},
   "outputs": [],
   "source": [
    "import xarray as xr\n",
    "import gfdl_utils as gu\n",
    "from dask.diagnostics import ProgressBar"
   ]
  },
  {
   "cell_type": "code",
   "execution_count": 6,
   "id": "c8227306-0878-48ea-9ca7-6f3241ea21f2",
   "metadata": {},
   "outputs": [],
   "source": [
    "config_id = 'ESM4_historical_D1'\n",
    "outdir = '/work/gam/projects/oxygen/data/'\n",
    "filename = 'ds.'+config_id+'.zarr'"
   ]
  },
  {
   "cell_type": "code",
   "execution_count": 4,
   "id": "1066af80-dc67-45a9-90c6-b07d17aea1d9",
   "metadata": {},
   "outputs": [],
   "source": [
    "dmget = False\n",
    "\n",
    "ds = xr.Dataset()\n",
    "if (config_id == 'ESM4_piControl_D') or (config_id == 'ESM4_historical_D1'):\n",
    "\n",
    "    pathDict = {'pp':('/archive/oar.gfdl.cmip6/ESM4/DECK/'+config_id+'/'+\n",
    "                        'gfdl.ncrc4-intel16-prod-openmp/pp'),\n",
    "                'out':'ts',\n",
    "                'local':'annual/5yr',\n",
    "                'time':'*'}\n",
    "    pathDict['ppname']='ocean_cobalt_omip_tracers_year_z_1x1deg'\n",
    "    variables = ['o2','o2sat']\n",
    "    for variable in variables:\n",
    "        pathDict['add'] = variable\n",
    "        path=gu.core.get_pathspp(**pathDict)\n",
    "        if dmget:\n",
    "            gu.core.issue_dmget(path)\n",
    "        else:\n",
    "            ds[variable] = gu.core.open_frompp(**pathDict)[variable]\n",
    "    \n",
    "    pathDict['ppname']='ocean_annual_z_1x1deg'\n",
    "    variables = ['thetao','so','volcello']\n",
    "    for variable in variables:\n",
    "        pathDict['add'] = variable\n",
    "        path=gu.core.get_pathspp(**pathDict)\n",
    "        if dmget:\n",
    "            gu.core.issue_dmget(path)\n",
    "        else:\n",
    "            ds[variable] = gu.core.open_frompp(**pathDict)[variable]\n",
    "    gridpath=gu.core.get_pathstatic(pathDict['pp'],pathDict['ppname'])\n",
    "    if dmget:\n",
    "        gu.core.issue_dmget(gridpath)\n",
    "    else:\n",
    "        grid = xr.open_dataset(gridpath)\n",
    "    \n",
    "if dmget==False:\n",
    "    ds = ds.chunk({'time':1}).squeeze()"
   ]
  },
  {
   "cell_type": "code",
   "execution_count": 5,
   "id": "a701fb00-57b6-40af-bf07-72a85613a726",
   "metadata": {},
   "outputs": [
    {
     "name": "stdout",
     "output_type": "stream",
     "text": [
      "[########################################] | 100% Completed | 20.3s\n"
     ]
    }
   ],
   "source": [
    "with ProgressBar():\n",
    "    ds.to_zarr(outdir+filename,mode='w')"
   ]
  },
  {
   "cell_type": "code",
   "execution_count": null,
   "id": "8663495f-58bf-409f-bb64-7043f6a66cc5",
   "metadata": {},
   "outputs": [],
   "source": []
  }
 ],
 "metadata": {
  "kernelspec": {
   "display_name": "Python [conda env:om4labs]",
   "language": "python",
   "name": "conda-env-om4labs-py"
  },
  "language_info": {
   "codemirror_mode": {
    "name": "ipython",
    "version": 3
   },
   "file_extension": ".py",
   "mimetype": "text/x-python",
   "name": "python",
   "nbconvert_exporter": "python",
   "pygments_lexer": "ipython3",
   "version": "3.9.12"
  }
 },
 "nbformat": 4,
 "nbformat_minor": 5
}
