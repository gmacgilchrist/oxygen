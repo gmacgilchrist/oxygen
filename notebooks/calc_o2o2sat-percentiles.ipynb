{
 "cells": [
  {
   "cell_type": "markdown",
   "id": "c68540ae-ccc3-4312-9e09-c102637d9e63",
   "metadata": {},
   "source": [
    "## Compare percentile changes for o2 and o2sat"
   ]
  },
  {
   "cell_type": "code",
   "execution_count": 14,
   "id": "62b0fa2d-05da-42a7-9539-6f9f0d71bc29",
   "metadata": {},
   "outputs": [],
   "source": [
    "import xarray as xr\n",
    "import cftime\n",
    "from xhistogram.xarray import histogram\n",
    "import numpy as np\n",
    "from dask.diagnostics import ProgressBar\n",
    "import matplotlib.pyplot as plt\n",
    "import oceans.sw_extras.sw_extras as swe\n",
    "\n",
    "from tracerpercentile import *"
   ]
  },
  {
   "cell_type": "code",
   "execution_count": 15,
   "id": "d86c4089-8674-436b-84ff-3895fdfa146d",
   "metadata": {},
   "outputs": [],
   "source": [
    "dataset = 'gobai' # gobai, esm4, ...\n",
    "if dataset=='gobai':\n",
    "    rootdir = '/projects/SOCCOM/datasets/gobai-o2/'\n",
    "    filename = 'GOBAI-O2-v1.0_processed.zarr'\n",
    "    ds = xr.open_zarr(rootdir+filename)\n",
    "    grid = xr.open_dataset(rootdir+'regular_grid.nc')\n",
    "    ds['volcello']=grid['rC']*grid['dp']\n",
    "    \n",
    "    ds['o2'] = ds['oxy'].copy()\n",
    "    ds['o2sat'] = xr.apply_ufunc(swe.o2sol_SP_pt_benson_krause_84,\n",
    "                                 ds['sal'],ds['temp'],dask='parallelized')\n",
    "    tracer_bins = np.linspace(0,400,400)\n",
    "    \n",
    "elif dataset=='esm4':\n",
    "    config_id = 'ESM4_historical_D1'\n",
    "    ds_datadir = '/work/gam/projects/oxygen/data/'\n",
    "    ds_filename = 'ds.'+config_id+'.zarr'\n",
    "    ds = xr.open_zarr(ds_datadir+ds_filename)\n",
    "    \n",
    "    tracer_bins = np.linspace(0,0.4,400)"
   ]
  },
  {
   "cell_type": "code",
   "execution_count": 16,
   "id": "1d52e826-b5c2-4e3e-bc97-6199e08a69fe",
   "metadata": {},
   "outputs": [],
   "source": [
    "ascending=False\n",
    "volume = ds['volcello']\n",
    "percentiles = np.linspace(1,100,100)"
   ]
  },
  {
   "cell_type": "code",
   "execution_count": null,
   "id": "a059db06-784d-4475-9930-4d852e38e110",
   "metadata": {},
   "outputs": [
    {
     "name": "stdout",
     "output_type": "stream",
     "text": [
      "o2\n",
      "Computing volumetric histogram.\n",
      "[########################################] | 100% Completed | 55.35 s\n",
      "Inverting for tracer percentile at each time.\n",
      "time index : 0/216\n",
      "time index : 10/216\n",
      "time index : 20/216\n",
      "time index : 30/216\n",
      "time index : 40/216\n",
      "time index : 50/216\n",
      "time index : 60/216\n",
      "time index : 70/216\n",
      "time index : 80/216\n",
      "time index : 90/216\n",
      "time index : 100/216\n",
      "time index : 110/216\n",
      "time index : 120/216\n",
      "time index : 130/216\n",
      "time index : 140/216\n",
      "time index : 150/216\n",
      "time index : 160/216\n",
      "time index : 170/216\n",
      "time index : 180/216\n",
      "time index : 190/216\n",
      "time index : 200/216\n",
      "time index : 210/216\n",
      "o2sat\n",
      "Computing volumetric histogram.\n",
      "[########################################] | 100% Completed | 85.86 s\n",
      "Inverting for tracer percentile at each time.\n",
      "time index : 0/216\n",
      "time index : 10/216\n",
      "time index : 20/216\n",
      "time index : 30/216\n",
      "time index : 40/216\n",
      "time index : 50/216\n",
      "time index : 60/216\n",
      "time index : 70/216\n",
      "time index : 80/216\n",
      "time index : 90/216\n",
      "time index : 100/216\n"
     ]
    }
   ],
   "source": [
    "# o2\n",
    "print('o2')\n",
    "tracer = ds['o2']\n",
    "o2p,VT = calc_tracerpercentile(tracer = tracer,\n",
    "                              volume = volume,\n",
    "                              tracer_bins=tracer_bins,\n",
    "                              percentiles=percentiles,\n",
    "                              ascending=ascending,\n",
    "                              verbose=True)\n",
    "O2p = calc_extensive(o2p,VT.mean('time'))\n",
    "\n",
    "# o2sat\n",
    "print('o2sat')\n",
    "tracer = ds['o2sat']\n",
    "o2satp,VT = calc_tracerpercentile(tracer = tracer,\n",
    "                              volume = volume,\n",
    "                              tracer_bins=tracer_bins,\n",
    "                              percentiles=percentiles,\n",
    "                              ascending=ascending,\n",
    "                              verbose=True)\n",
    "O2satp = calc_extensive(o2satp,VT.mean('time'))"
   ]
  },
  {
   "cell_type": "code",
   "execution_count": null,
   "id": "3b143410-0e92-47ec-9f32-00e0a96db5ce",
   "metadata": {},
   "outputs": [],
   "source": [
    "with ProgressBar():\n",
    "    O2p.load()\n",
    "    O2satp.load()"
   ]
  },
  {
   "cell_type": "code",
   "execution_count": null,
   "id": "ecc06e80-a3ef-4e62-8196-3153bdfa8a40",
   "metadata": {},
   "outputs": [],
   "source": [
    "(O2p-O2p.mean('time')).plot(robust=True)"
   ]
  },
  {
   "cell_type": "code",
   "execution_count": null,
   "id": "19a2cc5d-b4f8-423f-9d10-1e6bf820079e",
   "metadata": {},
   "outputs": [],
   "source": [
    "(O2satp-O2satp.mean('time')).plot(robust=True)"
   ]
  },
  {
   "cell_type": "code",
   "execution_count": null,
   "id": "6df6fee2-3006-4b20-b682-05f3e6961832",
   "metadata": {},
   "outputs": [],
   "source": [
    "t1 = ['2005','2010']\n",
    "t2 = ['2015','2019']\n",
    "t1slice = slice(t1[0]+'-01-01',t1[1]+'-12-31')\n",
    "t2slice = slice(t2[0]+'-01-01',t2[1]+'-12-31')\n",
    "t1label = t1[0]+' to '+t1[1]\n",
    "t2label = t2[0]+' to '+t2[1]\n",
    "t1color='tab:blue'\n",
    "t2color='tab:orange'\n",
    "dt = cftime.datetime(int(t2[1]),12,31)-cftime.datetime(int(t1[1]),12,31)\n",
    "dt = dt.days*24*60*60"
   ]
  },
  {
   "cell_type": "code",
   "execution_count": null,
   "id": "a42afb45-c937-4c2a-98a0-5c403db68a80",
   "metadata": {},
   "outputs": [],
   "source": [
    "O2p_t1 = O2p.sel(time=t1slice).mean('time')\n",
    "O2p_t2 = O2p.sel(time=t2slice).mean('time')\n",
    "O2satp_t1 = O2satp.sel(time=t1slice).mean('time')\n",
    "O2satp_t2 = O2satp.sel(time=t2slice).mean('time')"
   ]
  },
  {
   "cell_type": "code",
   "execution_count": null,
   "id": "7e52c7ee-e0c0-4a05-956c-9851c0f06afa",
   "metadata": {},
   "outputs": [],
   "source": [
    "(O2p_t2-O2p_t1).plot(y='percentile')\n",
    "(O2satp_t2-O2satp_t1).plot(y='percentile')"
   ]
  },
  {
   "cell_type": "code",
   "execution_count": null,
   "id": "0abbfc3d-91ae-43b3-bcb8-16cefb89be37",
   "metadata": {},
   "outputs": [],
   "source": []
  }
 ],
 "metadata": {
  "kernelspec": {
   "display_name": "core [~/.conda/envs/core/]",
   "language": "python",
   "name": "conda_core"
  },
  "language_info": {
   "codemirror_mode": {
    "name": "ipython",
    "version": 3
   },
   "file_extension": ".py",
   "mimetype": "text/x-python",
   "name": "python",
   "nbconvert_exporter": "python",
   "pygments_lexer": "ipython3",
   "version": "3.10.5"
  }
 },
 "nbformat": 4,
 "nbformat_minor": 5
}
