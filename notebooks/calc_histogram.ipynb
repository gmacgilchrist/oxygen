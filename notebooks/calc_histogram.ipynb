{
 "cells": [
  {
   "cell_type": "markdown",
   "id": "9d994cf1-cc4d-4e4d-86fa-0233382cadda",
   "metadata": {},
   "source": [
    "## Calculate and save histograms of ESM4 data\n",
    "To do :\n",
    "\n",
    "- [ ] Implement basin selection"
   ]
  },
  {
   "cell_type": "code",
   "execution_count": 18,
   "id": "98453753-ced4-4356-ac3d-db0c09941bba",
   "metadata": {},
   "outputs": [],
   "source": [
    "import xarray as xr\n",
    "from xhistogram.xarray import histogram\n",
    "import numpy as np\n",
    "import gfdl_utils as gu\n",
    "from dask.diagnostics import ProgressBar"
   ]
  },
  {
   "cell_type": "code",
   "execution_count": 68,
   "id": "22dec2a9-9275-4bd0-bca5-13d91c48dc69",
   "metadata": {},
   "outputs": [],
   "source": [
    "config_id = 'ESM4_historical_D1'\n",
    "basin = 'global'\n",
    "hs_variables = ['thetao','so']\n",
    "weightname = 'volcello'\n",
    "\n",
    "bins=[]\n",
    "for variable in hs_variables:\n",
    "    if variable=='o2':\n",
    "        binsnow = np.arange(-0.03,0.45,0.01)\n",
    "    elif variable=='thetao':\n",
    "        binsnow = np.arange(-2,32,0.5)\n",
    "    elif variable=='so':\n",
    "        binsnow = np.arange(32,38,0.1)\n",
    "    bins.append(binsnow)\n",
    "\n",
    "outdir = '../data/histograms/'\n",
    "filename = 'hs.'+config_id+'.'+'-'.join(hs_variables)+'.'+weightname+'.'+basin+'.nc'"
   ]
  },
  {
   "cell_type": "code",
   "execution_count": 69,
   "id": "e544e870-3ef2-4b62-b263-9315d9e98146",
   "metadata": {},
   "outputs": [],
   "source": [
    "dmget = False\n",
    "\n",
    "ds = xr.Dataset()\n",
    "if (config_id == 'ESM4_piControl_D') or (config_id == 'ESM4_historical_D1'):\n",
    "\n",
    "    pathDict = {'pp':('/archive/oar.gfdl.cmip6/ESM4/DECK/'+config_id+'/'+\n",
    "                        'gfdl.ncrc4-intel16-prod-openmp/pp'),\n",
    "                'out':'ts',\n",
    "                'local':'annual/5yr',\n",
    "                'time':'*'}\n",
    "    pathDict['ppname']='ocean_cobalt_omip_tracers_year_z_1x1deg'\n",
    "    variables = ['o2','o2sat']\n",
    "    for variable in variables:\n",
    "        pathDict['add'] = variable\n",
    "        path=gu.core.get_pathspp(**pathDict)\n",
    "        if dmget:\n",
    "            gu.core.issue_dmget(path)\n",
    "        else:\n",
    "            ds[variable] = gu.core.open_frompp(**pathDict)[variable]\n",
    "    \n",
    "    pathDict['ppname']='ocean_annual_z_1x1deg'\n",
    "    variables = ['thetao','so','volcello']\n",
    "    for variable in variables:\n",
    "        pathDict['add'] = variable\n",
    "        path=gu.core.get_pathspp(**pathDict)\n",
    "        if dmget:\n",
    "            gu.core.issue_dmget(path)\n",
    "        else:\n",
    "            ds[variable] = gu.core.open_frompp(**pathDict)[variable]\n",
    "    gridpath=gu.core.get_pathstatic(pathDict['pp'],pathDict['ppname'])\n",
    "    if dmget:\n",
    "        gu.core.issue_dmget(gridpath)\n",
    "    else:\n",
    "        grid = xr.open_dataset(gridpath)\n",
    "    \n",
    "if dmget==False:\n",
    "    ds = ds.chunk({'time':1}).squeeze()"
   ]
  },
  {
   "cell_type": "code",
   "execution_count": 70,
   "id": "e86870b1-226f-4eee-8fed-9377fb789bd3",
   "metadata": {},
   "outputs": [],
   "source": [
    "dslist = []\n",
    "for variable in hs_variables:\n",
    "    dslist.append(ds[variable])"
   ]
  },
  {
   "cell_type": "code",
   "execution_count": 71,
   "id": "d15b56c6-2f6e-4637-89fa-4164cc869be5",
   "metadata": {},
   "outputs": [],
   "source": [
    "if weightname == 'volcello':\n",
    "    weights = ds['volcello']\n",
    "\n",
    "hs = xr.Dataset()\n",
    "hs[weightname] = histogram(*dslist,\n",
    "                           bins=bins,\n",
    "                           dim=['lon','lat','z_l'],\n",
    "                           weights=weights)\n"
   ]
  },
  {
   "cell_type": "code",
   "execution_count": 72,
   "id": "323322b7-b993-4baa-9d09-081b2b31e461",
   "metadata": {},
   "outputs": [
    {
     "name": "stdout",
     "output_type": "stream",
     "text": [
      "[########################################] | 100% Completed | 11.0s\n"
     ]
    }
   ],
   "source": [
    "with ProgressBar():\n",
    "    hs.to_netcdf(outdir+filename)"
   ]
  },
  {
   "cell_type": "code",
   "execution_count": null,
   "id": "7f4a2925-e3e0-4dc4-a752-23ca32d5dba3",
   "metadata": {},
   "outputs": [],
   "source": []
  }
 ],
 "metadata": {
  "kernelspec": {
   "display_name": "Python [conda env:om4labs]",
   "language": "python",
   "name": "conda-env-om4labs-py"
  },
  "language_info": {
   "codemirror_mode": {
    "name": "ipython",
    "version": 3
   },
   "file_extension": ".py",
   "mimetype": "text/x-python",
   "name": "python",
   "nbconvert_exporter": "python",
   "pygments_lexer": "ipython3",
   "version": "3.9.12"
  }
 },
 "nbformat": 4,
 "nbformat_minor": 5
}
