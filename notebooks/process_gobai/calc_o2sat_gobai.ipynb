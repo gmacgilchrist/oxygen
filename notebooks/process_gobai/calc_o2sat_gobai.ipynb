{
 "cells": [
  {
   "cell_type": "code",
   "execution_count": 3,
   "id": "67db93ba-557f-470a-83cc-233292addcac",
   "metadata": {},
   "outputs": [],
   "source": [
    "import xarray as xr\n",
    "import oceans.sw_extras.sw_extras as swe\n",
    "from dask.diagnostics import ProgressBar"
   ]
  },
  {
   "cell_type": "code",
   "execution_count": 4,
   "id": "66556838-c8a5-44c1-971f-29385bd5e847",
   "metadata": {},
   "outputs": [
    {
     "name": "stdout",
     "output_type": "stream",
     "text": [
      "[########################################] | 100% Completed | 86.98 s\n"
     ]
    }
   ],
   "source": [
    "rootdir = '/projects/SOCCOM/datasets/gobai-o2/'\n",
    "filename = 'GOBAI-O2-v1.0_processed.zarr'\n",
    "# Load data\n",
    "ds = xr.open_zarr(rootdir+filename)\n",
    "# Calculate\n",
    "ds['oxysat'] = xr.apply_ufunc(swe.o2sol_SP_pt_benson_krause_84,\n",
    "                            ds['sal'],ds['temp'],dask='parallelized')\n",
    "# Append to zarr store\n",
    "with ProgressBar():\n",
    "    ds.to_zarr(rootdir+filename,mode='a')"
   ]
  },
  {
   "cell_type": "code",
   "execution_count": null,
   "id": "6f0b8a2a-9279-45d2-8cbd-090684b71f43",
   "metadata": {},
   "outputs": [],
   "source": []
  }
 ],
 "metadata": {
  "kernelspec": {
   "display_name": "core [~/.conda/envs/core/]",
   "language": "python",
   "name": "conda_core"
  },
  "language_info": {
   "codemirror_mode": {
    "name": "ipython",
    "version": 3
   },
   "file_extension": ".py",
   "mimetype": "text/x-python",
   "name": "python",
   "nbconvert_exporter": "python",
   "pygments_lexer": "ipython3",
   "version": "3.10.5"
  }
 },
 "nbformat": 4,
 "nbformat_minor": 5
}
