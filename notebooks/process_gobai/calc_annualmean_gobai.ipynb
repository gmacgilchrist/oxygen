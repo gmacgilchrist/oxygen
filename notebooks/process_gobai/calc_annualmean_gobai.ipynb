{
 "cells": [
  {
   "cell_type": "code",
   "execution_count": 2,
   "id": "67db93ba-557f-470a-83cc-233292addcac",
   "metadata": {},
   "outputs": [],
   "source": [
    "import xarray as xr\n",
    "import oceans.sw_extras.sw_extras as swe\n",
    "from dask.diagnostics import ProgressBar"
   ]
  },
  {
   "cell_type": "code",
   "execution_count": 9,
   "id": "66556838-c8a5-44c1-971f-29385bd5e847",
   "metadata": {},
   "outputs": [
    {
     "name": "stdout",
     "output_type": "stream",
     "text": [
      "[                                        ] | 0% Completed | 108.27 ms"
     ]
    },
    {
     "name": "stderr",
     "output_type": "stream",
     "text": [
      "/tmp/ipykernel_769457/3166219514.py:7: PerformanceWarning: Reshaping is producing a large chunk. To accept the large\n",
      "chunk and silence this warning, set the option\n",
      "    >>> with dask.config.set(**{'array.slicing.split_large_chunks': False}):\n",
      "    ...     array.reshape(shape)\n",
      "\n",
      "To avoid creating the large chunks, set the option\n",
      "    >>> with dask.config.set(**{'array.slicing.split_large_chunks': True}):\n",
      "    ...     array.reshape(shape)Explictly passing ``limit`` to ``reshape`` will also silence this warning\n",
      "    >>> array.reshape(shape, limit='128 MiB')\n",
      "  ds = ds.coarsen(time=12,boundary='exact').mean('time').chunk({'time':-1})\n",
      "/tmp/ipykernel_769457/3166219514.py:7: PerformanceWarning: Reshaping is producing a large chunk. To accept the large\n",
      "chunk and silence this warning, set the option\n",
      "    >>> with dask.config.set(**{'array.slicing.split_large_chunks': False}):\n",
      "    ...     array.reshape(shape)\n",
      "\n",
      "To avoid creating the large chunks, set the option\n",
      "    >>> with dask.config.set(**{'array.slicing.split_large_chunks': True}):\n",
      "    ...     array.reshape(shape)Explictly passing ``limit`` to ``reshape`` will also silence this warning\n",
      "    >>> array.reshape(shape, limit='128 MiB')\n",
      "  ds = ds.coarsen(time=12,boundary='exact').mean('time').chunk({'time':-1})\n",
      "/tmp/ipykernel_769457/3166219514.py:7: PerformanceWarning: Reshaping is producing a large chunk. To accept the large\n",
      "chunk and silence this warning, set the option\n",
      "    >>> with dask.config.set(**{'array.slicing.split_large_chunks': False}):\n",
      "    ...     array.reshape(shape)\n",
      "\n",
      "To avoid creating the large chunks, set the option\n",
      "    >>> with dask.config.set(**{'array.slicing.split_large_chunks': True}):\n",
      "    ...     array.reshape(shape)Explictly passing ``limit`` to ``reshape`` will also silence this warning\n",
      "    >>> array.reshape(shape, limit='128 MiB')\n",
      "  ds = ds.coarsen(time=12,boundary='exact').mean('time').chunk({'time':-1})\n",
      "/tmp/ipykernel_769457/3166219514.py:7: PerformanceWarning: Reshaping is producing a large chunk. To accept the large\n",
      "chunk and silence this warning, set the option\n",
      "    >>> with dask.config.set(**{'array.slicing.split_large_chunks': False}):\n",
      "    ...     array.reshape(shape)\n",
      "\n",
      "To avoid creating the large chunks, set the option\n",
      "    >>> with dask.config.set(**{'array.slicing.split_large_chunks': True}):\n",
      "    ...     array.reshape(shape)Explictly passing ``limit`` to ``reshape`` will also silence this warning\n",
      "    >>> array.reshape(shape, limit='128 MiB')\n",
      "  ds = ds.coarsen(time=12,boundary='exact').mean('time').chunk({'time':-1})\n",
      "/tmp/ipykernel_769457/3166219514.py:7: PerformanceWarning: Reshaping is producing a large chunk. To accept the large\n",
      "chunk and silence this warning, set the option\n",
      "    >>> with dask.config.set(**{'array.slicing.split_large_chunks': False}):\n",
      "    ...     array.reshape(shape)\n",
      "\n",
      "To avoid creating the large chunks, set the option\n",
      "    >>> with dask.config.set(**{'array.slicing.split_large_chunks': True}):\n",
      "    ...     array.reshape(shape)Explictly passing ``limit`` to ``reshape`` will also silence this warning\n",
      "    >>> array.reshape(shape, limit='128 MiB')\n",
      "  ds = ds.coarsen(time=12,boundary='exact').mean('time').chunk({'time':-1})\n",
      "/home/graemem/.conda/envs/core/lib/python3.10/site-packages/xarray/core/dataset.py:2036: SerializationWarning: saving variable None with floating point data as an integer dtype without any _FillValue to use for NaNs\n",
      "  return to_zarr(\n"
     ]
    },
    {
     "name": "stdout",
     "output_type": "stream",
     "text": [
      "[########################################] | 100% Completed | 36.02 s\n"
     ]
    }
   ],
   "source": [
    "rootdir = '/projects/SOCCOM/datasets/gobai-o2/'\n",
    "filename = 'GOBAI-O2-v1.0_processed.zarr'\n",
    "filename_out = 'GOBAI-O2-v1.0_processed_annualmean.zarr'\n",
    "# Load data\n",
    "ds = xr.open_zarr(rootdir+filename)\n",
    "# Calculate\n",
    "ds = ds.coarsen(time=12,boundary='exact').mean('time').chunk({'time':-1})\n",
    "# Append to zarr store\n",
    "with ProgressBar():\n",
    "    ds.to_zarr(rootdir+filename_out,mode='a')"
   ]
  },
  {
   "cell_type": "code",
   "execution_count": null,
   "id": "c7f7e49c-f9d6-47ae-8285-95e2e443d79d",
   "metadata": {},
   "outputs": [],
   "source": []
  }
 ],
 "metadata": {
  "kernelspec": {
   "display_name": "core [~/.conda/envs/core/]",
   "language": "python",
   "name": "conda_core"
  },
  "language_info": {
   "codemirror_mode": {
    "name": "ipython",
    "version": 3
   },
   "file_extension": ".py",
   "mimetype": "text/x-python",
   "name": "python",
   "nbconvert_exporter": "python",
   "pygments_lexer": "ipython3",
   "version": "3.10.5"
  }
 },
 "nbformat": 4,
 "nbformat_minor": 5
}
